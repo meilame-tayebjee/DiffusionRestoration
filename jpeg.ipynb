{
 "cells": [
  {
   "cell_type": "code",
   "execution_count": 20,
   "metadata": {},
   "outputs": [],
   "source": [
    "import torch\n",
    "from torch.fft import fft2, ifft2, fftshift, ifftshift\n",
    "import torchvision\n",
    "import numpy as np\n",
    "\n",
    "import matplotlib.pyplot as plt\n",
    "\n",
    "from PIL import Image\n",
    "from tqdm import tqdm\n",
    "from dps.guided_diffusion.unet import create_model\n",
    "\n",
    "from ddrm_jpeg.datasets.__init__ import get_dataset, data_transform, inverse_data_transform\n",
    "from ddrm_jpeg.functions.ckpt_util import get_ckpt_path, download\n",
    "from ddrm_jpeg.functions.denoising import jpeg_steps\n",
    "device = torch.device(\"cuda\" if torch.cuda.is_available() else \"cpu\")"
   ]
  },
  {
   "cell_type": "code",
   "execution_count": 4,
   "metadata": {},
   "outputs": [],
   "source": [
    "# Load model\n",
    "model_config = {'image_size': 256,\n",
    "                'num_channels': 128,\n",
    "                'num_res_blocks': 1,\n",
    "                'channel_mult': '',\n",
    "                'learn_sigma': True,\n",
    "                'class_cond': False,\n",
    "                'use_checkpoint': False,\n",
    "                'attention_resolutions': 16,\n",
    "                'num_heads': 4,\n",
    "                'num_head_channels': 64,\n",
    "                'num_heads_upsample': -1,\n",
    "                'use_scale_shift_norm': True,\n",
    "                'dropout': 0.0,\n",
    "                'resblock_updown': True,\n",
    "                'use_fp16': False,\n",
    "                'use_new_attention_order': False,\n",
    "                'model_path': 'ffhq_10m.pt'}\n",
    "model = create_model(**model_config)\n",
    "model = model.to(device)\n",
    "# use in eval mode:\n",
    "model.eval();"
   ]
  }
 ],
 "metadata": {
  "kernelspec": {
   "display_name": "base",
   "language": "python",
   "name": "python3"
  },
  "language_info": {
   "codemirror_mode": {
    "name": "ipython",
    "version": 3
   },
   "file_extension": ".py",
   "mimetype": "text/x-python",
   "name": "python",
   "nbconvert_exporter": "python",
   "pygments_lexer": "ipython3",
   "version": "3.12.2"
  }
 },
 "nbformat": 4,
 "nbformat_minor": 2
}
